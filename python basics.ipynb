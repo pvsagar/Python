{
 "cells": [
  {
   "cell_type": "markdown",
   "metadata": {
    "collapsed": true
   },
   "source": [
    "# markdown is used to write and save as text we can read like this\n",
    "- list"
   ]
  },
  {
   "cell_type": "code",
   "execution_count": 1,
   "metadata": {},
   "outputs": [],
   "source": [
    "x = 3"
   ]
  },
  {
   "cell_type": "code",
   "execution_count": 2,
   "metadata": {},
   "outputs": [
    {
     "data": {
      "text/plain": [
       "3"
      ]
     },
     "execution_count": 2,
     "metadata": {},
     "output_type": "execute_result"
    }
   ],
   "source": [
    "x"
   ]
  },
  {
   "cell_type": "code",
   "execution_count": 4,
   "metadata": {},
   "outputs": [
    {
     "name": "stdout",
     "output_type": "stream",
     "text": [
      "hello world\n"
     ]
    }
   ],
   "source": [
    "print(\"hello world\")"
   ]
  },
  {
   "cell_type": "code",
   "execution_count": 5,
   "metadata": {},
   "outputs": [
    {
     "name": "stdout",
     "output_type": "stream",
     "text": [
      "This code is comented\n"
     ]
    }
   ],
   "source": [
    "# good code is comented code\n",
    "print(\"This code is comented\")"
   ]
  },
  {
   "cell_type": "markdown",
   "metadata": {},
   "source": [
    "# common work flow\n",
    " - edit\n",
    " - run\n",
    " - save"
   ]
  },
  {
   "cell_type": "code",
   "execution_count": 9,
   "metadata": {},
   "outputs": [
    {
     "data": {
      "text/plain": [
       "10"
      ]
     },
     "execution_count": 9,
     "metadata": {},
     "output_type": "execute_result"
    }
   ],
   "source": [
    "x =2\n",
    "y = x + 5 + 3\n",
    "y"
   ]
  },
  {
   "cell_type": "code",
   "execution_count": 12,
   "metadata": {},
   "outputs": [],
   "source": [
    "x = 1"
   ]
  },
  {
   "cell_type": "code",
   "execution_count": 13,
   "metadata": {},
   "outputs": [],
   "source": [
    "z = 4"
   ]
  },
  {
   "cell_type": "code",
   "execution_count": 14,
   "metadata": {},
   "outputs": [],
   "source": [
    "y = 3"
   ]
  },
  {
   "cell_type": "code",
   "execution_count": 15,
   "metadata": {},
   "outputs": [
    {
     "data": {
      "text/plain": [
       "123"
      ]
     },
     "execution_count": 15,
     "metadata": {},
     "output_type": "execute_result"
    }
   ],
   "source": [
    "123"
   ]
  },
  {
   "cell_type": "code",
   "execution_count": 16,
   "metadata": {},
   "outputs": [
    {
     "data": {
      "text/plain": [
       "'123'"
      ]
     },
     "execution_count": 16,
     "metadata": {},
     "output_type": "execute_result"
    }
   ],
   "source": [
    "\"123\""
   ]
  },
  {
   "cell_type": "code",
   "execution_count": 17,
   "metadata": {},
   "outputs": [
    {
     "name": "stdout",
     "output_type": "stream",
     "text": [
      "123\n"
     ]
    }
   ],
   "source": [
    "print(123)"
   ]
  },
  {
   "cell_type": "code",
   "execution_count": 19,
   "metadata": {},
   "outputs": [
    {
     "name": "stdout",
     "output_type": "stream",
     "text": [
      "123\n"
     ]
    }
   ],
   "source": [
    "print(\"123\")"
   ]
  },
  {
   "cell_type": "code",
   "execution_count": 21,
   "metadata": {},
   "outputs": [
    {
     "name": "stdout",
     "output_type": "stream",
     "text": [
      "numbers can be printed without quotes\n"
     ]
    }
   ],
   "source": [
    "print(\"numbers can be printed without quotes\")"
   ]
  },
  {
   "cell_type": "code",
   "execution_count": 22,
   "metadata": {},
   "outputs": [],
   "source": [
    "variable = \"variable name\""
   ]
  },
  {
   "cell_type": "code",
   "execution_count": 23,
   "metadata": {},
   "outputs": [
    {
     "data": {
      "text/plain": [
       "'variable name'"
      ]
     },
     "execution_count": 23,
     "metadata": {},
     "output_type": "execute_result"
    }
   ],
   "source": [
    "# echo variable\n",
    "variable"
   ]
  },
  {
   "cell_type": "code",
   "execution_count": 25,
   "metadata": {},
   "outputs": [
    {
     "name": "stdout",
     "output_type": "stream",
     "text": [
      "variable name\n"
     ]
    }
   ],
   "source": [
    "print(variable)"
   ]
  },
  {
   "cell_type": "code",
   "execution_count": 26,
   "metadata": {},
   "outputs": [],
   "source": [
    "# variables can be re initialized\n",
    "variable = \"some other variable\""
   ]
  },
  {
   "cell_type": "code",
   "execution_count": 27,
   "metadata": {},
   "outputs": [
    {
     "data": {
      "text/plain": [
       "'some other variable'"
      ]
     },
     "execution_count": 27,
     "metadata": {},
     "output_type": "execute_result"
    }
   ],
   "source": [
    "variable"
   ]
  },
  {
   "cell_type": "code",
   "execution_count": 39,
   "metadata": {},
   "outputs": [],
   "source": [
    "# variable data type can be changed in python\n",
    "variable = \"123\""
   ]
  },
  {
   "cell_type": "code",
   "execution_count": 40,
   "metadata": {},
   "outputs": [
    {
     "data": {
      "text/plain": [
       "'123'"
      ]
     },
     "execution_count": 40,
     "metadata": {},
     "output_type": "execute_result"
    }
   ],
   "source": [
    "variable"
   ]
  },
  {
   "cell_type": "code",
   "execution_count": 30,
   "metadata": {},
   "outputs": [
    {
     "data": {
      "text/plain": [
       "int"
      ]
     },
     "execution_count": 30,
     "metadata": {},
     "output_type": "execute_result"
    }
   ],
   "source": [
    "# data types are int, strings, floats\n",
    "# use type function to know the type\n",
    "type(123)"
   ]
  },
  {
   "cell_type": "code",
   "execution_count": 31,
   "metadata": {},
   "outputs": [
    {
     "data": {
      "text/plain": [
       "float"
      ]
     },
     "execution_count": 31,
     "metadata": {},
     "output_type": "execute_result"
    }
   ],
   "source": [
    "type(1.23)"
   ]
  },
  {
   "cell_type": "code",
   "execution_count": 33,
   "metadata": {},
   "outputs": [
    {
     "data": {
      "text/plain": [
       "str"
      ]
     },
     "execution_count": 33,
     "metadata": {},
     "output_type": "execute_result"
    }
   ],
   "source": [
    "type(\"char\")"
   ]
  },
  {
   "cell_type": "code",
   "execution_count": 34,
   "metadata": {},
   "outputs": [
    {
     "data": {
      "text/plain": [
       "444"
      ]
     },
     "execution_count": 34,
     "metadata": {},
     "output_type": "execute_result"
    }
   ],
   "source": [
    "# addition operator can do math on numbers or concatinate strings\n",
    "123+321"
   ]
  },
  {
   "cell_type": "code",
   "execution_count": 35,
   "metadata": {},
   "outputs": [
    {
     "data": {
      "text/plain": [
       "'helloworld'"
      ]
     },
     "execution_count": 35,
     "metadata": {},
     "output_type": "execute_result"
    }
   ],
   "source": [
    "\"hello\"+\"world\""
   ]
  },
  {
   "cell_type": "code",
   "execution_count": 36,
   "metadata": {},
   "outputs": [
    {
     "name": "stdout",
     "output_type": "stream",
     "text": [
      "8\n"
     ]
    }
   ],
   "source": [
    "# math operation can be done in print function\n",
    "print (3+5)"
   ]
  },
  {
   "cell_type": "code",
   "execution_count": 42,
   "metadata": {},
   "outputs": [
    {
     "name": "stdout",
     "output_type": "stream",
     "text": [
      "Hello dear 123 world\n"
     ]
    }
   ],
   "source": [
    "print(\"Hello \"+ \"dear \"+ variable +\" world\")"
   ]
  },
  {
   "cell_type": "code",
   "execution_count": 44,
   "metadata": {},
   "outputs": [
    {
     "name": "stdout",
     "output_type": "stream",
     "text": [
      "Hello!! Diana\n"
     ]
    }
   ],
   "source": [
    " # simple functions\n",
    "first_name = \"Diana\"\n",
    "greeting = \"Hello!! \"+ first_name\n",
    "print(greeting)\n",
    "# variables help us to reuse the code"
   ]
  },
  {
   "cell_type": "code",
   "execution_count": 46,
   "metadata": {},
   "outputs": [
    {
     "name": "stdout",
     "output_type": "stream",
     "text": [
      "enter your input :\n",
      "Hello\n",
      "user said Hello\n"
     ]
    }
   ],
   "source": [
    "# reading user input using input function\n",
    "print(\"enter your input :\")\n",
    "user_input = input()\n",
    "print(\"user said \" + user_input)"
   ]
  },
  {
   "cell_type": "code",
   "execution_count": 55,
   "metadata": {},
   "outputs": [
    {
     "name": "stdout",
     "output_type": "stream",
     "text": [
      "enter your input :\n",
      "13\n"
     ]
    },
    {
     "data": {
      "text/plain": [
       "str"
      ]
     },
     "execution_count": 55,
     "metadata": {},
     "output_type": "execute_result"
    }
   ],
   "source": [
    "print(\"enter your input :\")\n",
    "user_input = input()\n",
    "type(user_input)"
   ]
  },
  {
   "cell_type": "code",
   "execution_count": 54,
   "metadata": {},
   "outputs": [
    {
     "name": "stdout",
     "output_type": "stream",
     "text": [
      "Enter student name: Berry\n",
      "Student name is: Berry\n"
     ]
    }
   ],
   "source": [
    "# prompt can improve input func\n",
    "student_name = input(\"Enter student name: \")\n",
    "print(\"Student name is: \"+student_name)"
   ]
  },
  {
   "cell_type": "code",
   "execution_count": 56,
   "metadata": {},
   "outputs": [
    {
     "name": "stdout",
     "output_type": "stream",
     "text": [
      "enter your answer: 38\n"
     ]
    },
    {
     "ename": "TypeError",
     "evalue": "unsupported operand type(s) for +: 'int' and 'str'",
     "output_type": "error",
     "traceback": [
      "\u001b[0;31m---------------------------------------------------------------------------\u001b[0m",
      "\u001b[0;31mTypeError\u001b[0m                                 Traceback (most recent call last)",
      "\u001b[0;32m<ipython-input-56-89dd98178654>\u001b[0m in \u001b[0;36m<module>\u001b[0;34m()\u001b[0m\n\u001b[1;32m      1\u001b[0m \u001b[0manswer\u001b[0m \u001b[0;34m=\u001b[0m \u001b[0minput\u001b[0m\u001b[0;34m(\u001b[0m\u001b[0;34m\"enter your answer: \"\u001b[0m\u001b[0;34m)\u001b[0m\u001b[0;34m\u001b[0m\u001b[0m\n\u001b[0;32m----> 2\u001b[0;31m \u001b[0mprint\u001b[0m\u001b[0;34m(\u001b[0m\u001b[0;36m10\u001b[0m \u001b[0;34m+\u001b[0m \u001b[0manswer\u001b[0m\u001b[0;34m)\u001b[0m\u001b[0;34m\u001b[0m\u001b[0m\n\u001b[0m",
      "\u001b[0;31mTypeError\u001b[0m: unsupported operand type(s) for +: 'int' and 'str'"
     ]
    }
   ],
   "source": [
    "answer = input(\"enter your answer: \")  \n",
    "print(10 + answer)"
   ]
  },
  {
   "cell_type": "code",
   "execution_count": 57,
   "metadata": {},
   "outputs": [
    {
     "name": "stdout",
     "output_type": "stream",
     "text": [
      "enter your answer: 38\n",
      "You entered 38\n"
     ]
    }
   ],
   "source": [
    "answer = input(\"enter your answer: \")  \n",
    "print(\"You entered \" + answer) "
   ]
  },
  {
   "cell_type": "code",
   "execution_count": 2,
   "metadata": {},
   "outputs": [
    {
     "name": "stdout",
     "output_type": "stream",
     "text": [
      "enter your answer: 55\n",
      "You entered 55\n"
     ]
    }
   ],
   "source": [
    "answer = input(\"enter your answer: \")  \n",
    "print(\"You entered\",answer) "
   ]
  },
  {
   "cell_type": "code",
   "execution_count": 3,
   "metadata": {},
   "outputs": [
    {
     "name": "stdout",
     "output_type": "stream",
     "text": [
      "hello 55\n"
     ]
    }
   ],
   "source": [
    "print(\"hello\",55) # concatinating strings and numbers using ,(comma) to avoid type error"
   ]
  },
  {
   "cell_type": "code",
   "execution_count": 4,
   "metadata": {},
   "outputs": [
    {
     "data": {
      "text/plain": [
       "True"
      ]
     },
     "execution_count": 4,
     "metadata": {},
     "output_type": "execute_result"
    }
   ],
   "source": [
    "\"python\".isalpha()"
   ]
  },
  {
   "cell_type": "code",
   "execution_count": 5,
   "metadata": {},
   "outputs": [
    {
     "data": {
      "text/plain": [
       "True"
      ]
     },
     "execution_count": 5,
     "metadata": {},
     "output_type": "execute_result"
    }
   ],
   "source": [
    "\"3rs\".isalnum()"
   ]
  },
  {
   "cell_type": "code",
   "execution_count": 6,
   "metadata": {},
   "outputs": [
    {
     "data": {
      "text/plain": [
       "True"
      ]
     },
     "execution_count": 6,
     "metadata": {},
     "output_type": "execute_result"
    }
   ],
   "source": [
    "\"save\".startswith(\"s\")"
   ]
  },
  {
   "cell_type": "code",
   "execution_count": 7,
   "metadata": {},
   "outputs": [
    {
     "data": {
      "text/plain": [
       "False"
      ]
     },
     "execution_count": 7,
     "metadata": {},
     "output_type": "execute_result"
    }
   ],
   "source": [
    "\"HEY\".islower()"
   ]
  },
  {
   "cell_type": "code",
   "execution_count": 9,
   "metadata": {},
   "outputs": [
    {
     "data": {
      "text/plain": [
       "True"
      ]
     },
     "execution_count": 9,
     "metadata": {},
     "output_type": "execute_result"
    }
   ],
   "source": [
    "\"The End\".istitle()"
   ]
  },
  {
   "cell_type": "code",
   "execution_count": 10,
   "metadata": {},
   "outputs": [
    {
     "data": {
      "text/plain": [
       "True"
      ]
     },
     "execution_count": 10,
     "metadata": {},
     "output_type": "execute_result"
    }
   ],
   "source": [
    "cm_height=\"125\"\n",
    "cm_height.isdigit()"
   ]
  },
  {
   "cell_type": "code",
   "execution_count": 19,
   "metadata": {},
   "outputs": [
    {
     "data": {
      "text/plain": [
       "'EXPERIMENTS WITH STRINGS'"
      ]
     },
     "execution_count": 19,
     "metadata": {},
     "output_type": "execute_result"
    }
   ],
   "source": [
    "cannon =\"Experiments with Strings\"\n",
    "cannon.upper()"
   ]
  },
  {
   "cell_type": "code",
   "execution_count": 20,
   "metadata": {},
   "outputs": [
    {
     "data": {
      "text/plain": [
       "'experiments with strings'"
      ]
     },
     "execution_count": 20,
     "metadata": {},
     "output_type": "execute_result"
    }
   ],
   "source": [
    "cannon =\"Experiments with Strings\"\n",
    "cannon.lower()"
   ]
  },
  {
   "cell_type": "code",
   "execution_count": 21,
   "metadata": {},
   "outputs": [
    {
     "data": {
      "text/plain": [
       "'Experiments With Strings'"
      ]
     },
     "execution_count": 21,
     "metadata": {},
     "output_type": "execute_result"
    }
   ],
   "source": [
    "cannon =\"Experiments with Strings\"\n",
    "cannon.title()"
   ]
  },
  {
   "cell_type": "code",
   "execution_count": 22,
   "metadata": {},
   "outputs": [
    {
     "data": {
      "text/plain": [
       "'Experiments with strings'"
      ]
     },
     "execution_count": 22,
     "metadata": {},
     "output_type": "execute_result"
    }
   ],
   "source": [
    "cannon =\"Experiments with Strings\"\n",
    "cannon.capitalize()"
   ]
  },
  {
   "cell_type": "code",
   "execution_count": 24,
   "metadata": {},
   "outputs": [
    {
     "data": {
      "text/plain": [
       "'eXPERIMENTS WITH sTRINGS'"
      ]
     },
     "execution_count": 24,
     "metadata": {},
     "output_type": "execute_result"
    }
   ],
   "source": [
    "cannon =\"Experiments with Strings\"\n",
    "cannon.swapcase()"
   ]
  },
  {
   "cell_type": "code",
   "execution_count": 26,
   "metadata": {},
   "outputs": [
    {
     "name": "stdout",
     "output_type": "stream",
     "text": [
      "True\n"
     ]
    }
   ],
   "source": [
    "menu = \"salad pasta pizza coke pepsi mac burger\"\n",
    "print(\"pizza\" in menu.lower())"
   ]
  },
  {
   "cell_type": "markdown",
   "metadata": {},
   "source": [
    "# Functions"
   ]
  },
  {
   "cell_type": "code",
   "execution_count": 1,
   "metadata": {},
   "outputs": [
    {
     "name": "stdout",
     "output_type": "stream",
     "text": [
      "Hello\n",
      "Bye\n"
     ]
    }
   ],
   "source": [
    "def say_hi():\n",
    "    print(\"Hello\")\n",
    "    print(\"Bye\")\n",
    "\n",
    "say_hi()"
   ]
  },
  {
   "cell_type": "code",
   "execution_count": 2,
   "metadata": {},
   "outputs": [
    {
     "name": "stdout",
     "output_type": "stream",
     "text": [
      "Hello\n",
      "Bye\n"
     ]
    }
   ],
   "source": [
    "say_hi()"
   ]
  },
  {
   "cell_type": "markdown",
   "metadata": {},
   "source": [
    "# Functions with Arguments"
   ]
  },
  {
   "cell_type": "code",
   "execution_count": 3,
   "metadata": {},
   "outputs": [
    {
     "name": "stdout",
     "output_type": "stream",
     "text": [
      "Hello hello\n"
     ]
    }
   ],
   "source": [
    "def say_this(something):\n",
    "    print(something)\n",
    "    \n",
    "say_this(\"Hello hello\")"
   ]
  },
  {
   "cell_type": "markdown",
   "metadata": {},
   "source": [
    "# Functions with return values"
   ]
  },
  {
   "cell_type": "code",
   "execution_count": 4,
   "metadata": {},
   "outputs": [
    {
     "name": "stdout",
     "output_type": "stream",
     "text": [
      "lets go lets go\n"
     ]
    }
   ],
   "source": [
    "def msg_double(phrase):\n",
    "    double = phrase + \" \"+ phrase\n",
    "    return double\n",
    "\n",
    "msg_2x = msg_double(\"lets go\")\n",
    "\n",
    "print(msg_2x)"
   ]
  },
  {
   "cell_type": "code",
   "execution_count": 5,
   "metadata": {},
   "outputs": [
    {
     "name": "stdout",
     "output_type": "stream",
     "text": [
      "21.0\n"
     ]
    }
   ],
   "source": [
    "def half_value(val):\n",
    "    return val/2\n",
    "\n",
    "print(half_value(42))"
   ]
  },
  {
   "cell_type": "markdown",
   "metadata": {},
   "source": [
    "# if else"
   ]
  },
  {
   "cell_type": "code",
   "execution_count": 6,
   "metadata": {},
   "outputs": [
    {
     "name": "stdout",
     "output_type": "stream",
     "text": [
      "True\n"
     ]
    }
   ],
   "source": [
    "if True:\n",
    "    print(\"True\")\n",
    "else:\n",
    "    print(\"False\")"
   ]
  },
  {
   "cell_type": "code",
   "execution_count": 7,
   "metadata": {},
   "outputs": [
    {
     "name": "stdout",
     "output_type": "stream",
     "text": [
      "False\n"
     ]
    }
   ],
   "source": [
    "if False:\n",
    "    print(\"True\")\n",
    "else:\n",
    "    print(\"False\")"
   ]
  },
  {
   "cell_type": "code",
   "execution_count": 8,
   "metadata": {},
   "outputs": [
    {
     "ename": "SyntaxError",
     "evalue": "invalid syntax (<ipython-input-8-2c45e61ab9a6>, line 3)",
     "output_type": "error",
     "traceback": [
      "\u001b[0;36m  File \u001b[0;32m\"<ipython-input-8-2c45e61ab9a6>\"\u001b[0;36m, line \u001b[0;32m3\u001b[0m\n\u001b[0;31m    if assignment = 25:\u001b[0m\n\u001b[0m                  ^\u001b[0m\n\u001b[0;31mSyntaxError\u001b[0m\u001b[0;31m:\u001b[0m invalid syntax\n"
     ]
    }
   ],
   "source": [
    "   assignment = 25\n",
    "\n",
    "if assignment = 25:\n",
    "    print('use \"=\" to assign values')\n",
    "else:\n",
    "    pass\n"
   ]
  },
  {
   "cell_type": "code",
   "execution_count": 14,
   "metadata": {},
   "outputs": [
    {
     "name": "stdout",
     "output_type": "stream",
     "text": [
      "False\n",
      "False\n",
      "True\n",
      "'student' >= 'Student' is True\n",
      "'student' != 'Student' is True\n",
      "True\n"
     ]
    }
   ],
   "source": [
    "# review and run code\n",
    "print(\"hello\" < \"Hello\")\n",
    "# review and run code\n",
    "print(\"Aardvark\" > \"Zebra\")\n",
    "# review and run code\n",
    "print('student' != 'Student')\n",
    "# review and run code\n",
    "print(\"'student' >= 'Student' is\", 'student' >= 'Student')\n",
    "print(\"'student' != 'Student' is\", 'student' != 'Student')\n",
    "# review and run code\n",
    "print(\"Hello \" + \"World!\" == \"Hello World!\")"
   ]
  },
  {
   "cell_type": "code",
   "execution_count": 15,
   "metadata": {},
   "outputs": [
    {
     "name": "stdout",
     "output_type": "stream",
     "text": [
      "True\n"
     ]
    }
   ],
   "source": [
    "msg = \"Hello\"\n",
    "# [ ] print the True/False results of testing if msg string equals \"Hello\" string\n",
    "if msg == \"Hello\":\n",
    "    print(True)\n",
    "else:\n",
    "    print(False)"
   ]
  },
  {
   "cell_type": "code",
   "execution_count": 17,
   "metadata": {},
   "outputs": [
    {
     "name": "stdout",
     "output_type": "stream",
     "text": [
      "enter \"Hello\" :Hello\n",
      "True\n"
     ]
    }
   ],
   "source": [
    "greeting = \"Hello\"\n",
    "# [ ] get input for variable named msg, and ask user to 'Say \"Hello\"'\n",
    "# [ ] print the results of testing if msg string equals greeting string\n",
    "msg = input('enter \"Hello\" :')\n",
    "if msg == greeting:\n",
    "    print(True)\n",
    "else:\n",
    "    print(False)"
   ]
  },
  {
   "cell_type": "code",
   "execution_count": 19,
   "metadata": {},
   "outputs": [
    {
     "name": "stdout",
     "output_type": "stream",
     "text": [
      "Enter weather (sunny, rainy, snowy): sunny\n",
      "Wear a t-shirt\n"
     ]
    }
   ],
   "source": [
    "weather = input(\"Enter weather (sunny, rainy, snowy): \") \n",
    "if weather.lower() == \"sunny\":\n",
    "    print(\"Wear a t-shirt\")\n",
    "elif weather.lower() == \"rainy\":\n",
    "    print(\"Bring an umbrella and boots\")\n",
    "elif weather.lower() == \"snowy\":\n",
    "    print(\"Wear a warm coat and hat\")\n",
    "else:\n",
    "    print(\"Sorry, not sure what to suggest for\", weather)"
   ]
  },
  {
   "cell_type": "code",
   "execution_count": 23,
   "metadata": {},
   "outputs": [
    {
     "name": "stdout",
     "output_type": "stream",
     "text": [
      "True\n",
      "size is recorded\n"
     ]
    }
   ],
   "source": [
    "     size_num = \"8 9 10\"\n",
    "\n",
    "size = \"8\" # user input\n",
    "print(size.isdigit())\n",
    "if size.isdigit() == False:\n",
    "    print(\"Invalid: size should only use digits\")\n",
    "elif int(size) < 8:\n",
    "    print(\"size is too low\")\n",
    "elif size in size_num:\n",
    "    print(\"size is recorded\")\n",
    "else:\n",
    "    print(\"size is too high\")"
   ]
  },
  {
   "cell_type": "code",
   "execution_count": 24,
   "metadata": {},
   "outputs": [
    {
     "name": "stdout",
     "output_type": "stream",
     "text": [
      "1.0\n"
     ]
    }
   ],
   "source": [
    "x = 3\n",
    "y = 3\n",
    "calculation = x/y\n",
    "print(calculation)"
   ]
  },
  {
   "cell_type": "code",
   "execution_count": 25,
   "metadata": {},
   "outputs": [
    {
     "name": "stdout",
     "output_type": "stream",
     "text": [
      "12\n"
     ]
    }
   ],
   "source": [
    "x = 3\n",
    "y = 4\n",
    "calculation = x*y\n",
    "print(calculation)"
   ]
  },
  {
   "cell_type": "code",
   "execution_count": 26,
   "metadata": {},
   "outputs": [
    {
     "name": "stdout",
     "output_type": "stream",
     "text": [
      "13.0\n"
     ]
    }
   ],
   "source": [
    "calculation = 5 + 15 / 5 + 3 * 2 - 1\n",
    "print(calculation)"
   ]
  },
  {
   "cell_type": "code",
   "execution_count": 5,
   "metadata": {},
   "outputs": [
    {
     "name": "stdout",
     "output_type": "stream",
     "text": [
      "Input the first letter of your fav color:V\n",
      "Your fav color is Violet\n"
     ]
    }
   ],
   "source": [
    "# [ ] make the code above into a function rainbow_color() that has a string parameter, \n",
    "# get input and call the function and return the matching color as a string or \"no match\" message.\n",
    "# Call the function and print the return string.\n",
    "\n",
    "color = input(\"Input the first letter of your fav color:\")\n",
    "if color.lower() == 'r':\n",
    "    print(\"Your fav color is Red\")\n",
    "elif color.lower() == 'o':\n",
    "    print(\"Your fav color is Orange\")\n",
    "elif color.lower() == 'y':\n",
    "    print(\"Your fav color is Yellow\")\n",
    "elif color.lower() == 'g':\n",
    "    print(\"Your fav color is Green\")\n",
    "elif color.lower() == 'b':\n",
    "    print(\"Your fav color is Blue\")\n",
    "elif color.lower() == 'i':\n",
    "    print(\"Your fav color is Indigo\")\n",
    "elif color.lower() == 'v':\n",
    "    print(\"Your fav color is Violet\")\n",
    "else:\n",
    "    print(\"No Match\")"
   ]
  },
  {
   "cell_type": "code",
   "execution_count": 10,
   "metadata": {},
   "outputs": [
    {
     "name": "stdout",
     "output_type": "stream",
     "text": [
      "+/-\n"
     ]
    }
   ],
   "source": [
    "x =0\n",
    "y =-1\n",
    "\n",
    "if x < 0:\n",
    "    print(\"-\")\n",
    "else:\n",
    "    if y >= 0:\n",
    "        print(\"+/+\")\n",
    "    else:\n",
    "        print(\"+/-\")\n"
   ]
  },
  {
   "cell_type": "code",
   "execution_count": 11,
   "metadata": {},
   "outputs": [
    {
     "name": "stdout",
     "output_type": "stream",
     "text": [
      "Apple\n"
     ]
    }
   ],
   "source": [
    " if True:\n",
    "    if False:\n",
    "        print(\"Banana\")\n",
    "    else:\n",
    "        print(\"Apple\")\n",
    "else:\n",
    "    if True:\n",
    "        print(\"Dates\")\n",
    "    else:\n",
    "        print(\"Corn\")"
   ]
  },
  {
   "cell_type": "markdown",
   "metadata": {},
   "source": [
    "# Escape sequences"
   ]
  },
  {
   "cell_type": "code",
   "execution_count": 12,
   "metadata": {},
   "outputs": [
    {
     "name": "stdout",
     "output_type": "stream",
     "text": [
      "Hello, This is a \n",
      "New line\n"
     ]
    }
   ],
   "source": [
    "print(\"Hello, This is a \\nNew line\")"
   ]
  },
  {
   "cell_type": "code",
   "execution_count": 13,
   "metadata": {},
   "outputs": [
    {
     "name": "stdout",
     "output_type": "stream",
     "text": [
      "Hello, I placed a \tTab inbetween\n"
     ]
    }
   ],
   "source": [
    "print(\"Hello, I placed a \\tTab inbetween\")"
   ]
  },
  {
   "cell_type": "code",
   "execution_count": 14,
   "metadata": {},
   "outputs": [
    {
     "name": "stdout",
     "output_type": "stream",
     "text": [
      "Hello, I placed \"Quotes\" in quotes\n"
     ]
    }
   ],
   "source": [
    "print(\"Hello, I placed \\\"Quotes\\\" in quotes\")"
   ]
  },
  {
   "cell_type": "code",
   "execution_count": 15,
   "metadata": {},
   "outputs": [
    {
     "name": "stdout",
     "output_type": "stream",
     "text": [
      "\\\\\\\\\n"
     ]
    }
   ],
   "source": [
    "print(\"\\\\\\\\\\\\\\\\\")"
   ]
  },
  {
   "cell_type": "code",
   "execution_count": 16,
   "metadata": {},
   "outputs": [
    {
     "name": "stdout",
     "output_type": "stream",
     "text": [
      "It's\n",
      "Python Time!\n"
     ]
    }
   ],
   "source": [
    "print(\"It's\\nPython Time!\")"
   ]
  },
  {
   "cell_type": "code",
   "execution_count": 17,
   "metadata": {},
   "outputs": [
    {
     "name": "stdout",
     "output_type": "stream",
     "text": [
      "It's\n",
      "Python Time!\n"
     ]
    }
   ],
   "source": [
    "print(\"It's\" + \"\\nPython Time!\")"
   ]
  },
  {
   "cell_type": "code",
   "execution_count": 18,
   "metadata": {},
   "outputs": [
    {
     "name": "stdout",
     "output_type": "stream",
     "text": [
      "It's\n",
      "Python Time!\n"
     ]
    }
   ],
   "source": [
    "print(\"It\\'s\\nPython Time!\")"
   ]
  },
  {
   "cell_type": "code",
   "execution_count": 2,
   "metadata": {},
   "outputs": [
    {
     "name": "stdout",
     "output_type": "stream",
     "text": [
      "Enter an integer: 3\n",
      "Enter an integer: 4\n",
      "Enter an integer: five\n",
      "34\n"
     ]
    }
   ],
   "source": [
    "num_1 = \"\"\n",
    "num_temp = \"\"\n",
    "num_final = \"\"\n",
    "\n",
    "while True:\n",
    "    num_1 = input(\"Enter an integer: \")\n",
    "    if num_1.isdigit():\n",
    "        num_final = num_temp + num_1\n",
    "        num_temp = num_final\n",
    "    else:\n",
    "        print(num_final)\n",
    "        break"
   ]
  },
  {
   "cell_type": "code",
   "execution_count": 3,
   "metadata": {},
   "outputs": [
    {
     "name": "stdout",
     "output_type": "stream",
     "text": [
      "run forever\n",
      "run forever\n",
      "run forever\n",
      "run forever\n",
      "run forever\n",
      "run forever\n",
      "run forever\n",
      "run forever\n",
      "run forever\n",
      "run forever\n"
     ]
    }
   ],
   "source": [
    "x = 0 \n",
    "\n",
    "while True:\n",
    "    if x < 10:\n",
    "        print('run forever')\n",
    "        x += 1\n",
    "    else:\n",
    "        break\n"
   ]
  },
  {
   "cell_type": "code",
   "execution_count": 4,
   "metadata": {},
   "outputs": [
    {
     "name": "stdout",
     "output_type": "stream",
     "text": [
      "time is 3\n",
      "time is 4\n"
     ]
    }
   ],
   "source": [
    "time = 3\n",
    "\n",
    "while True:\n",
    "    print('time is', time)\n",
    "    if time == 3:\n",
    "        time = 4\n",
    "    else:\n",
    "        break"
   ]
  },
  {
   "cell_type": "code",
   "execution_count": 5,
   "metadata": {},
   "outputs": [
    {
     "name": "stdout",
     "output_type": "stream",
     "text": [
      "loop\n",
      "loop\n",
      "loop\n",
      "loop\n",
      "loop\n"
     ]
    }
   ],
   "source": [
    "x = 0 \n",
    "\n",
    "while x < 5:\n",
    "    x += 1\n",
    "    print('loop')"
   ]
  },
  {
   "cell_type": "code",
   "execution_count": 17,
   "metadata": {},
   "outputs": [],
   "source": [
    "name = \"das\"\n",
    "def ignore_case(name):\n",
    "    answer = \"\"\n",
    "    while answer.isalpha() == False:\n",
    "        answer = input(\"enter last name: \")\n",
    "    return answer.lower() == name.lower()"
   ]
  },
  {
   "cell_type": "code",
   "execution_count": 20,
   "metadata": {},
   "outputs": [
    {
     "name": "stdout",
     "output_type": "stream",
     "text": [
      "The new line character is \"\\n\"\n",
      "\"That's how we escape!\"\n",
      "1\tone\n",
      "22\ttwo\n",
      "333\tthree\n"
     ]
    }
   ],
   "source": [
    "# [ ] print a string that outputs the following exactly: The new line character is \"\\n\"\n",
    "print(\"The new line character is \\\"\\\\n\\\"\")\n",
    "\n",
    "# [ ] print output that is exactly (with quotes): \"That's how we escape!\"\n",
    "print('\"That\\'s how we escape!\"')\n",
    "\n",
    "# [ ] with only 1 print statement and using No Space Characters, output the text commented below  \n",
    "print(\"1\\tone\\n22\\ttwo\\n333\\tthree\")\n",
    "# 1       one\n",
    "# 22      two\n",
    "# 333     three"
   ]
  },
  {
   "cell_type": "code",
   "execution_count": null,
   "metadata": {},
   "outputs": [],
   "source": [
    "'''quote_me takes a string argument and returns a string that will display surrounded with added double quotes if printed\n",
    "\n",
    "check if passed string starts with a double quote (\"\\\"\"), then surround string with single quotations\n",
    "if the passed string starts with single quote, or if doesn't start with a quotation mark, then surround with double quotations\n",
    "Test the function code passing string input as the argument to quote_me()\n",
    "'''\n",
    "# [ ] create and test quote_me()\n",
    "\n",
    "def quote_me(input):\n",
    "    if  input[0] == \"\\\"\":\n",
    "        print(\"\\\"\"+input[1:-1]+\"\\\"\")\n",
    "    elif input[0] == \"\\'\":\n",
    "        print(\"\\\"\"+input[1:-1]+\"\\\"\")\n",
    "    else :\n",
    "        print(\"\\\"\"+input+\"\\\"\")\n",
    "\n",
    "quote_me('\"hello\"')"
   ]
  },
  {
   "cell_type": "code",
   "execution_count": null,
   "metadata": {},
   "outputs": [],
   "source": [
    "'''Program: shirt order\n",
    "First get input for color and size\n",
    "\n",
    "White has sizes L, M\n",
    "Blue has sizes M, S\n",
    "print avaiable or unavailable, then\n",
    "print the order confirmation of color and size'''\n",
    "\n",
    "def order(c,s):\n",
    "    if c.lower()==\"white\":\n",
    "        if s.lower() == \"l\" or s.lower() ==\"m\":\n",
    "            print(\"Available\")\n",
    "        else:\n",
    "            print(\"Unavailable\")\n",
    "    elif c.lower() == \"blue\":\n",
    "        if s.lower() == \"s\" or s.lower() ==\"m\":\n",
    "            print(\"Available\")\n",
    "        else:\n",
    "            print(\"Unavailable\")\n",
    "    else:\n",
    "        print(\"Unavailable\")\n",
    "\n",
    "color = input(\"color of shirt: \")\n",
    "size = input(\"size of shirt: \")\n",
    "order(color,size)"
   ]
  },
  {
   "cell_type": "code",
   "execution_count": 7,
   "metadata": {},
   "outputs": [
    {
     "name": "stdout",
     "output_type": "stream",
     "text": [
      "enter tickets remaining (0 to quit): 5\n",
      "sorry, not a winner.\n",
      "enter tickets remaining (0 to quit): 8\n",
      "sorry, not a winner.\n",
      "enter tickets remaining (0 to quit): 6\n",
      "you win!\n",
      "enter tickets remaining (0 to quit): 0\n",
      "Game ended\n"
     ]
    }
   ],
   "source": [
    "tickets = input(\"enter tickets remaining (0 to quit): \")\n",
    "\n",
    "while int(tickets) > 0:\n",
    "        # if tickets are multiple of 3 then \"winner\"\n",
    "    if int(tickets)%3 == 0:\n",
    "        print(\"you win!\")\n",
    "    else:\n",
    "        print(\"sorry, not a winner.\")\n",
    "    tickets = int(input(\"enter tickets remaining (0 to quit): \"))\n",
    "        \n",
    "print(\"Game ended\")"
   ]
  },
  {
   "cell_type": "code",
   "execution_count": 6,
   "metadata": {},
   "outputs": [
    {
     "name": "stdout",
     "output_type": "stream",
     "text": [
      "test\n"
     ]
    }
   ],
   "source": [
    "print(\"test\")"
   ]
  },
  {
   "cell_type": "code",
   "execution_count": null,
   "metadata": {},
   "outputs": [
    {
     "name": "stdout",
     "output_type": "stream",
     "text": [
      "Enter word or integer: \n",
      "Enter word or integer: \n",
      "Enter word or integer: \n",
      "Enter word or integer: \n",
      "Enter word or integer: 2\n",
      "2 is a smaller number than expected\n",
      "Enter word or integer: 5\n",
      "5 is a smaller number than expected\n",
      "Enter word or integer: 4\n",
      "4 is a smaller number than expected\n",
      "Enter word or integer: 555\n",
      "555 is a pretty big number\n",
      "Enter word or integer: h\n",
      "\"h\" is all alphabetical characters!\n",
      "Enter word or integer: hi h\n",
      "\"hi h\" is neither all alpha nor all digit!\n"
     ]
    }
   ],
   "source": [
    "# [ ] create, call and test the str_analysis() function  \n",
    "# then PASTE THIS CODE into edX  \n",
    "\n",
    "def str_analysis():\n",
    "    test = input(\"Enter word or integer: \")\n",
    "    while test == '':\n",
    "        test = input(\"Enter word or integer: \")\n",
    "    if test.isalpha() == True:\n",
    "        print(\"\\\"\"+test+\"\\\"\",\"is all alphabetical characters!\")\n",
    "        str_analysis()\n",
    "    if test.isdigit() == True:\n",
    "        if int(test) < 99:\n",
    "            print(test,\"is a smaller number than expected\")\n",
    "            str_analysis()\n",
    "        else:\n",
    "            print(test,\"is a pretty big number\")\n",
    "            str_analysis()\n",
    "    else:\n",
    "        print(\"\\\"\"+test+\"\\\"\",\"is neither all alpha nor all digit!\")\n",
    "        str_analysis()\n",
    "\n",
    "str_analysis()"
   ]
  },
  {
   "cell_type": "code",
   "execution_count": null,
   "metadata": {},
   "outputs": [],
   "source": []
  },
  {
   "cell_type": "code",
   "execution_count": null,
   "metadata": {},
   "outputs": [],
   "source": []
  }
 ],
 "metadata": {
  "kernelspec": {
   "display_name": "Python 3",
   "language": "python",
   "name": "python3"
  },
  "language_info": {
   "codemirror_mode": {
    "name": "ipython",
    "version": 3
   },
   "file_extension": ".py",
   "mimetype": "text/x-python",
   "name": "python",
   "nbconvert_exporter": "python",
   "pygments_lexer": "ipython3",
   "version": "3.5.4"
  }
 },
 "nbformat": 4,
 "nbformat_minor": 2
}
